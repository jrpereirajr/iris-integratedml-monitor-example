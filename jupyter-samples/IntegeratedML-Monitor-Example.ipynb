{
 "cells": [
  {
   "cell_type": "markdown",
   "metadata": {},
   "source": [
    "# Setup"
   ]
  },
  {
   "cell_type": "code",
   "execution_count": 1,
   "metadata": {},
   "outputs": [],
   "source": [
    "### Libraries\n",
    "import pandas as pd\n",
    "from IPython.display import display\n",
    "### Python OBDC bridge\n",
    "import pyodbc \n",
    "### IRIS Python Native API\n",
    "import irisnative"
   ]
  },
  {
   "cell_type": "code",
   "execution_count": 2,
   "metadata": {},
   "outputs": [],
   "source": [
    "### SQL Connection parameters\n",
    "dsn = 'IRIS IntegeratedML monitor'\n",
    "server = 'irisimlsvr'\n",
    "port = '51773'\n",
    "database = 'USER' \n",
    "username = 'SUPERUSER' \n",
    "password = 'SYS' \n",
    "cnxn = pyodbc.connect('DRIVER={InterSystems ODBC35};SERVER='+server+';PORT='+port+';DATABASE='+database+';UID='+username+';PWD='+ password)\n",
    "\n",
    "### charset stuffs...\n",
    "cnxn.setdecoding(pyodbc.SQL_CHAR, encoding='utf8')\n",
    "cnxn.setdecoding(pyodbc.SQL_WCHAR, encoding='utf8')\n",
    "cnxn.setencoding(encoding='utf8')\n",
    "\n",
    "### Get a SQL cursor\n",
    "cursor = cnxn.cursor()"
   ]
  },
  {
   "cell_type": "code",
   "execution_count": 3,
   "metadata": {},
   "outputs": [],
   "source": [
    "### Native API connection's parameters\n",
    "ip = \"irisimlsvr\"\n",
    "port = 51773\n",
    "namespace = \"USER\"\n",
    "username = \"SUPERUSER\"\n",
    "password = \"SYS\"\n",
    "\n",
    "### Create database connection and IRIS instance\n",
    "try:\n",
    "    nativeConn = irisnative.createConnection(ip, port, namespace, username, password)\n",
    "    dbnative = irisnative.createIris(nativeConn)\n",
    "except:\n",
    "    print('Seems like you can\\'t connect to IRIS... try to exit from any IRIS terminal or other license consumption session')"
   ]
  },
  {
   "cell_type": "markdown",
   "metadata": {},
   "source": [
    "# ML model setup"
   ]
  },
  {
   "cell_type": "markdown",
   "metadata": {},
   "source": [
    "Let's create a model to predict appointments, using first 500 records to train it."
   ]
  },
  {
   "cell_type": "code",
   "execution_count": 4,
   "metadata": {},
   "outputs": [],
   "source": [
    "### Model's parameters\n",
    "dataTable = 'MedicalAppointments'\n",
    "dataColumn = 'Show'\n",
    "modelName = 'AppointmentsPredection'"
   ]
  },
  {
   "cell_type": "code",
   "execution_count": 5,
   "metadata": {},
   "outputs": [
    {
     "data": {
      "text/html": [
       "<div>\n",
       "<style scoped>\n",
       "    .dataframe tbody tr th:only-of-type {\n",
       "        vertical-align: middle;\n",
       "    }\n",
       "\n",
       "    .dataframe tbody tr th {\n",
       "        vertical-align: top;\n",
       "    }\n",
       "\n",
       "    .dataframe thead th {\n",
       "        text-align: right;\n",
       "    }\n",
       "</style>\n",
       "<table border=\"1\" class=\"dataframe\">\n",
       "  <thead>\n",
       "    <tr style=\"text-align: right;\">\n",
       "      <th></th>\n",
       "      <th>ID</th>\n",
       "      <th>Canal</th>\n",
       "      <th>CreacionDiaD</th>\n",
       "      <th>CreacionHoraD</th>\n",
       "      <th>CreacionMesD</th>\n",
       "      <th>Edad</th>\n",
       "      <th>Especialidad</th>\n",
       "      <th>Latencia</th>\n",
       "      <th>ReservaDiaD</th>\n",
       "      <th>ReservaHoraD</th>\n",
       "      <th>ReservaMesD</th>\n",
       "      <th>Sexo</th>\n",
       "      <th>Show</th>\n",
       "      <th>Tipo</th>\n",
       "    </tr>\n",
       "  </thead>\n",
       "  <tbody>\n",
       "    <tr>\n",
       "      <th>0</th>\n",
       "      <td>1</td>\n",
       "      <td>1</td>\n",
       "      <td>4</td>\n",
       "      <td>14</td>\n",
       "      <td>12</td>\n",
       "      <td>66</td>\n",
       "      <td>76</td>\n",
       "      <td>18</td>\n",
       "      <td>1</td>\n",
       "      <td>18</td>\n",
       "      <td>1</td>\n",
       "      <td>1</td>\n",
       "      <td>False</td>\n",
       "      <td>1</td>\n",
       "    </tr>\n",
       "    <tr>\n",
       "      <th>1</th>\n",
       "      <td>2</td>\n",
       "      <td>1</td>\n",
       "      <td>5</td>\n",
       "      <td>11</td>\n",
       "      <td>12</td>\n",
       "      <td>66</td>\n",
       "      <td>76</td>\n",
       "      <td>17</td>\n",
       "      <td>1</td>\n",
       "      <td>19</td>\n",
       "      <td>1</td>\n",
       "      <td>1</td>\n",
       "      <td>False</td>\n",
       "      <td>1</td>\n",
       "    </tr>\n",
       "    <tr>\n",
       "      <th>2</th>\n",
       "      <td>3</td>\n",
       "      <td>3</td>\n",
       "      <td>2</td>\n",
       "      <td>10</td>\n",
       "      <td>12</td>\n",
       "      <td>35</td>\n",
       "      <td>18</td>\n",
       "      <td>20</td>\n",
       "      <td>1</td>\n",
       "      <td>15</td>\n",
       "      <td>1</td>\n",
       "      <td>1</td>\n",
       "      <td>False</td>\n",
       "      <td>1</td>\n",
       "    </tr>\n",
       "    <tr>\n",
       "      <th>3</th>\n",
       "      <td>4</td>\n",
       "      <td>1</td>\n",
       "      <td>2</td>\n",
       "      <td>8</td>\n",
       "      <td>11</td>\n",
       "      <td>44</td>\n",
       "      <td>51</td>\n",
       "      <td>34</td>\n",
       "      <td>1</td>\n",
       "      <td>19</td>\n",
       "      <td>1</td>\n",
       "      <td>2</td>\n",
       "      <td>False</td>\n",
       "      <td>1</td>\n",
       "    </tr>\n",
       "    <tr>\n",
       "      <th>4</th>\n",
       "      <td>5</td>\n",
       "      <td>1</td>\n",
       "      <td>5</td>\n",
       "      <td>10</td>\n",
       "      <td>12</td>\n",
       "      <td>72</td>\n",
       "      <td>76</td>\n",
       "      <td>17</td>\n",
       "      <td>1</td>\n",
       "      <td>12</td>\n",
       "      <td>1</td>\n",
       "      <td>2</td>\n",
       "      <td>False</td>\n",
       "      <td>1</td>\n",
       "    </tr>\n",
       "    <tr>\n",
       "      <th>...</th>\n",
       "      <td>...</td>\n",
       "      <td>...</td>\n",
       "      <td>...</td>\n",
       "      <td>...</td>\n",
       "      <td>...</td>\n",
       "      <td>...</td>\n",
       "      <td>...</td>\n",
       "      <td>...</td>\n",
       "      <td>...</td>\n",
       "      <td>...</td>\n",
       "      <td>...</td>\n",
       "      <td>...</td>\n",
       "      <td>...</td>\n",
       "      <td>...</td>\n",
       "    </tr>\n",
       "    <tr>\n",
       "      <th>61209</th>\n",
       "      <td>30657</td>\n",
       "      <td>3</td>\n",
       "      <td>1</td>\n",
       "      <td>12</td>\n",
       "      <td>1</td>\n",
       "      <td>4</td>\n",
       "      <td>23</td>\n",
       "      <td>45</td>\n",
       "      <td>4</td>\n",
       "      <td>14</td>\n",
       "      <td>3</td>\n",
       "      <td>1</td>\n",
       "      <td>True</td>\n",
       "      <td>1</td>\n",
       "    </tr>\n",
       "    <tr>\n",
       "      <th>61210</th>\n",
       "      <td>30658</td>\n",
       "      <td>1</td>\n",
       "      <td>5</td>\n",
       "      <td>16</td>\n",
       "      <td>1</td>\n",
       "      <td>2</td>\n",
       "      <td>39</td>\n",
       "      <td>34</td>\n",
       "      <td>4</td>\n",
       "      <td>8</td>\n",
       "      <td>3</td>\n",
       "      <td>1</td>\n",
       "      <td>True</td>\n",
       "      <td>1</td>\n",
       "    </tr>\n",
       "    <tr>\n",
       "      <th>61211</th>\n",
       "      <td>30659</td>\n",
       "      <td>1</td>\n",
       "      <td>4</td>\n",
       "      <td>10</td>\n",
       "      <td>1</td>\n",
       "      <td>43</td>\n",
       "      <td>51</td>\n",
       "      <td>35</td>\n",
       "      <td>4</td>\n",
       "      <td>9</td>\n",
       "      <td>3</td>\n",
       "      <td>1</td>\n",
       "      <td>True</td>\n",
       "      <td>1</td>\n",
       "    </tr>\n",
       "    <tr>\n",
       "      <th>61212</th>\n",
       "      <td>30660</td>\n",
       "      <td>3</td>\n",
       "      <td>7</td>\n",
       "      <td>18</td>\n",
       "      <td>1</td>\n",
       "      <td>38</td>\n",
       "      <td>18</td>\n",
       "      <td>46</td>\n",
       "      <td>4</td>\n",
       "      <td>8</td>\n",
       "      <td>3</td>\n",
       "      <td>1</td>\n",
       "      <td>True</td>\n",
       "      <td>1</td>\n",
       "    </tr>\n",
       "    <tr>\n",
       "      <th>61213</th>\n",
       "      <td>30661</td>\n",
       "      <td>1</td>\n",
       "      <td>4</td>\n",
       "      <td>10</td>\n",
       "      <td>1</td>\n",
       "      <td>8</td>\n",
       "      <td>21</td>\n",
       "      <td>35</td>\n",
       "      <td>4</td>\n",
       "      <td>19</td>\n",
       "      <td>3</td>\n",
       "      <td>1</td>\n",
       "      <td>True</td>\n",
       "      <td>1</td>\n",
       "    </tr>\n",
       "  </tbody>\n",
       "</table>\n",
       "<p>61214 rows × 14 columns</p>\n",
       "</div>"
      ],
      "text/plain": [
       "          ID  Canal  CreacionDiaD  CreacionHoraD  CreacionMesD  Edad  \\\n",
       "0          1      1             4             14            12    66   \n",
       "1          2      1             5             11            12    66   \n",
       "2          3      3             2             10            12    35   \n",
       "3          4      1             2              8            11    44   \n",
       "4          5      1             5             10            12    72   \n",
       "...      ...    ...           ...            ...           ...   ...   \n",
       "61209  30657      3             1             12             1     4   \n",
       "61210  30658      1             5             16             1     2   \n",
       "61211  30659      1             4             10             1    43   \n",
       "61212  30660      3             7             18             1    38   \n",
       "61213  30661      1             4             10             1     8   \n",
       "\n",
       "       Especialidad  Latencia  ReservaDiaD  ReservaHoraD  ReservaMesD  Sexo  \\\n",
       "0                76        18            1            18            1     1   \n",
       "1                76        17            1            19            1     1   \n",
       "2                18        20            1            15            1     1   \n",
       "3                51        34            1            19            1     2   \n",
       "4                76        17            1            12            1     2   \n",
       "...             ...       ...          ...           ...          ...   ...   \n",
       "61209            23        45            4            14            3     1   \n",
       "61210            39        34            4             8            3     1   \n",
       "61211            51        35            4             9            3     1   \n",
       "61212            18        46            4             8            3     1   \n",
       "61213            21        35            4            19            3     1   \n",
       "\n",
       "        Show  Tipo  \n",
       "0      False     1  \n",
       "1      False     1  \n",
       "2      False     1  \n",
       "3      False     1  \n",
       "4      False     1  \n",
       "...      ...   ...  \n",
       "61209   True     1  \n",
       "61210   True     1  \n",
       "61211   True     1  \n",
       "61212   True     1  \n",
       "61213   True     1  \n",
       "\n",
       "[61214 rows x 14 columns]"
      ]
     },
     "metadata": {},
     "output_type": "display_data"
    }
   ],
   "source": [
    "### Display dataset table\n",
    "df1 = pd.read_sql(\n",
    "    \"SELECT * FROM %s\" \n",
    "    % (dataTable), \n",
    "    cnxn\n",
    ")\n",
    "display(df1)"
   ]
  },
  {
   "cell_type": "code",
   "execution_count": 6,
   "metadata": {},
   "outputs": [
    {
     "name": "stdout",
     "output_type": "stream",
     "text": [
      "Deleting previous model...\n",
      "Model deleted\n"
     ]
    }
   ],
   "source": [
    "### Clean previous runs\n",
    "df1 = pd.read_sql(\n",
    "    \"SELECT COUNT(*) AS ModelExists FROM INFORMATION_SCHEMA.ML_TRAINED_MODELS WHERE MODEL_NAME = '%s'\"\n",
    "    % (modelName), \n",
    "    cnxn\n",
    ")\n",
    "if (df1['ModelExists'][0] > 0):\n",
    "    print('Deleting previous model...')\n",
    "    cursor.execute(\"DROP MODEL %s\" % (modelName))\n",
    "    print('Model deleted')\n",
    "else:\n",
    "    print('No previous runs found')"
   ]
  },
  {
   "cell_type": "code",
   "execution_count": 7,
   "metadata": {},
   "outputs": [
    {
     "name": "stdout",
     "output_type": "stream",
     "text": [
      "Training model (this could take a while)...\n",
      "Model trained\n"
     ]
    }
   ],
   "source": [
    "### Create a model for predicting patient's appointments misses\n",
    "### Note: seed parameter it's to force reproducibility\n",
    "cursor.execute(\n",
    "    \"CREATE MODEL %s PREDICTING (%s) FROM %s USING {\\\"seed\\\": 3}\" \n",
    "    % (modelName, dataColumn, dataTable)\n",
    ")\n",
    "print('Training model (this could take a while)...')\n",
    "cursor.execute(\n",
    "    \"TRAIN MODEL %s FROM %s WHERE ID <= %s USING {\\\"seed\\\": 3}\" \n",
    "    % (modelName, dataTable, 500)\n",
    ")\n",
    "print('Model trained')\n",
    "cnxn.commit()"
   ]
  },
  {
   "cell_type": "code",
   "execution_count": 8,
   "metadata": {},
   "outputs": [
    {
     "data": {
      "text/html": [
       "<div>\n",
       "<style scoped>\n",
       "    .dataframe tbody tr th:only-of-type {\n",
       "        vertical-align: middle;\n",
       "    }\n",
       "\n",
       "    .dataframe tbody tr th {\n",
       "        vertical-align: top;\n",
       "    }\n",
       "\n",
       "    .dataframe thead th {\n",
       "        text-align: right;\n",
       "    }\n",
       "</style>\n",
       "<table border=\"1\" class=\"dataframe\">\n",
       "  <thead>\n",
       "    <tr style=\"text-align: right;\">\n",
       "      <th></th>\n",
       "      <th>MODEL_NAME</th>\n",
       "      <th>TRAINED_MODEL_NAME</th>\n",
       "      <th>PROVIDER</th>\n",
       "      <th>TRAINED_TIMESTAMP</th>\n",
       "      <th>MODEL_TYPE</th>\n",
       "      <th>MODEL_INFO</th>\n",
       "    </tr>\n",
       "  </thead>\n",
       "  <tbody>\n",
       "    <tr>\n",
       "      <th>0</th>\n",
       "      <td>AppointmentsPredection</td>\n",
       "      <td>AppointmentsPredection2</td>\n",
       "      <td>AutoML</td>\n",
       "      <td>2020-07-18 13:56:42.691</td>\n",
       "      <td>classification</td>\n",
       "      <td>ModelType:Logistic Regression, Package:sklearn...</td>\n",
       "    </tr>\n",
       "  </tbody>\n",
       "</table>\n",
       "</div>"
      ],
      "text/plain": [
       "               MODEL_NAME       TRAINED_MODEL_NAME PROVIDER  \\\n",
       "0  AppointmentsPredection  AppointmentsPredection2   AutoML   \n",
       "\n",
       "        TRAINED_TIMESTAMP      MODEL_TYPE  \\\n",
       "0 2020-07-18 13:56:42.691  classification   \n",
       "\n",
       "                                          MODEL_INFO  \n",
       "0  ModelType:Logistic Regression, Package:sklearn...  "
      ]
     },
     "metadata": {},
     "output_type": "display_data"
    }
   ],
   "source": [
    "### Display model information\n",
    "cursor.execute(\"SELECT * FROM INFORMATION_SCHEMA.ML_TRAINED_MODELS\")\n",
    "df1 = pd.read_sql(\"SELECT * FROM INFORMATION_SCHEMA.ML_TRAINED_MODELS\", cnxn)\n",
    "display(df1)"
   ]
  },
  {
   "cell_type": "code",
   "execution_count": 9,
   "metadata": {},
   "outputs": [
    {
     "data": {
      "text/html": [
       "<div>\n",
       "<style scoped>\n",
       "    .dataframe tbody tr th:only-of-type {\n",
       "        vertical-align: middle;\n",
       "    }\n",
       "\n",
       "    .dataframe tbody tr th {\n",
       "        vertical-align: top;\n",
       "    }\n",
       "\n",
       "    .dataframe thead th {\n",
       "        text-align: right;\n",
       "    }\n",
       "</style>\n",
       "<table border=\"1\" class=\"dataframe\">\n",
       "  <thead>\n",
       "    <tr style=\"text-align: right;\">\n",
       "      <th></th>\n",
       "      <th>Predicted</th>\n",
       "      <th>Show</th>\n",
       "    </tr>\n",
       "  </thead>\n",
       "  <tbody>\n",
       "    <tr>\n",
       "      <th>0</th>\n",
       "      <td>0</td>\n",
       "      <td>False</td>\n",
       "    </tr>\n",
       "    <tr>\n",
       "      <th>1</th>\n",
       "      <td>0</td>\n",
       "      <td>False</td>\n",
       "    </tr>\n",
       "    <tr>\n",
       "      <th>2</th>\n",
       "      <td>0</td>\n",
       "      <td>False</td>\n",
       "    </tr>\n",
       "    <tr>\n",
       "      <th>3</th>\n",
       "      <td>0</td>\n",
       "      <td>False</td>\n",
       "    </tr>\n",
       "    <tr>\n",
       "      <th>4</th>\n",
       "      <td>0</td>\n",
       "      <td>False</td>\n",
       "    </tr>\n",
       "    <tr>\n",
       "      <th>...</th>\n",
       "      <td>...</td>\n",
       "      <td>...</td>\n",
       "    </tr>\n",
       "    <tr>\n",
       "      <th>495</th>\n",
       "      <td>1</td>\n",
       "      <td>True</td>\n",
       "    </tr>\n",
       "    <tr>\n",
       "      <th>496</th>\n",
       "      <td>0</td>\n",
       "      <td>True</td>\n",
       "    </tr>\n",
       "    <tr>\n",
       "      <th>497</th>\n",
       "      <td>1</td>\n",
       "      <td>True</td>\n",
       "    </tr>\n",
       "    <tr>\n",
       "      <th>498</th>\n",
       "      <td>1</td>\n",
       "      <td>True</td>\n",
       "    </tr>\n",
       "    <tr>\n",
       "      <th>499</th>\n",
       "      <td>1</td>\n",
       "      <td>True</td>\n",
       "    </tr>\n",
       "  </tbody>\n",
       "</table>\n",
       "<p>500 rows × 2 columns</p>\n",
       "</div>"
      ],
      "text/plain": [
       "    Predicted   Show\n",
       "0           0  False\n",
       "1           0  False\n",
       "2           0  False\n",
       "3           0  False\n",
       "4           0  False\n",
       "..        ...    ...\n",
       "495         1   True\n",
       "496         0   True\n",
       "497         1   True\n",
       "498         1   True\n",
       "499         1   True\n",
       "\n",
       "[500 rows x 2 columns]"
      ]
     },
     "metadata": {},
     "output_type": "display_data"
    }
   ],
   "source": [
    "### Display prediction and real patient's appointments presence\n",
    "df1 = pd.read_sql(\n",
    "    \"SELECT PREDICT(%s) As Predicted, Show FROM %s WHERE ID <= %s\" \n",
    "    % (modelName, dataTable, 500), \n",
    "    cnxn\n",
    ")\n",
    "display(df1)"
   ]
  },
  {
   "cell_type": "markdown",
   "metadata": {},
   "source": [
    "# Model monitoring"
   ]
  },
  {
   "cell_type": "markdown",
   "metadata": {},
   "source": [
    "Now let's validate our model using 100 new records regargind train model, i.e., the 600 first records. Note that again the parameter seed was used in order to guarantee reproducibility."
   ]
  },
  {
   "cell_type": "code",
   "execution_count": 10,
   "metadata": {},
   "outputs": [
    {
     "data": {
      "text/html": [
       "<div>\n",
       "<style scoped>\n",
       "    .dataframe tbody tr th:only-of-type {\n",
       "        vertical-align: middle;\n",
       "    }\n",
       "\n",
       "    .dataframe tbody tr th {\n",
       "        vertical-align: top;\n",
       "    }\n",
       "\n",
       "    .dataframe thead th {\n",
       "        text-align: right;\n",
       "    }\n",
       "</style>\n",
       "<table border=\"1\" class=\"dataframe\">\n",
       "  <thead>\n",
       "    <tr style=\"text-align: right;\">\n",
       "      <th>METRIC_NAME</th>\n",
       "      <th>Accuracy</th>\n",
       "      <th>F-Measure</th>\n",
       "      <th>Precision</th>\n",
       "      <th>Recall</th>\n",
       "    </tr>\n",
       "    <tr>\n",
       "      <th>VALIDATION_RUN_NAME</th>\n",
       "      <th></th>\n",
       "      <th></th>\n",
       "      <th></th>\n",
       "      <th></th>\n",
       "    </tr>\n",
       "  </thead>\n",
       "  <tbody>\n",
       "    <tr>\n",
       "      <th>AppointmentsPredection21</th>\n",
       "      <td>0.9</td>\n",
       "      <td>0.94</td>\n",
       "      <td>0.98</td>\n",
       "      <td>0.91</td>\n",
       "    </tr>\n",
       "  </tbody>\n",
       "</table>\n",
       "</div>"
      ],
      "text/plain": [
       "METRIC_NAME               Accuracy  F-Measure  Precision  Recall\n",
       "VALIDATION_RUN_NAME                                             \n",
       "AppointmentsPredection21       0.9       0.94       0.98    0.91"
      ]
     },
     "metadata": {},
     "output_type": "display_data"
    }
   ],
   "source": [
    "### Model validation\n",
    "cursor.execute(\n",
    "    \"VALIDATE MODEL %s FROM %s WHERE ID < %s USING {\\\"seed\\\": 3}\" \n",
    "    % (modelName, dataTable, 600)\n",
    ")\n",
    "df5 = pd.read_sql(\n",
    "    \"SELECT * FROM INFORMATION_SCHEMA.ML_VALIDATION_METRICS WHERE MODEL_NAME = '%s'\" \n",
    "    % (modelName), cnxn\n",
    ")\n",
    "df6 = df5.pivot(index='VALIDATION_RUN_NAME', columns='METRIC_NAME', values='METRIC_VALUE')\n",
    "display(df6)"
   ]
  },
  {
   "cell_type": "markdown",
   "metadata": {},
   "source": [
    "As we can see, model's accuracy is about 90%."
   ]
  },
  {
   "cell_type": "markdown",
   "metadata": {},
   "source": [
    "MyMetric.IntegratedMLModelsValidation application monitor class let you to access such metrics. Thus it's possible to IRIS' ^%SYSMONMGR monitor utility being aware about your ML models perfomance."
   ]
  },
  {
   "cell_type": "code",
   "execution_count": 11,
   "metadata": {},
   "outputs": [
    {
     "name": "stdout",
     "output_type": "stream",
     "text": [
      "MyMetric - IntegratedMLModelsValidation   AppointmentsPredection2 [2020-07-18 13:57:30]   Serial value of object or the object identity:W\u0001MyMetric||IntegratedMLModelsValidation||AppointmentsPredection2 [2020-07-18 13:57:30].\u0001MyMetric.Sample.IntegratedMLModelsValidation\r\n",
      "   Accuracy:                    .9\r\n",
      "   F-Measure:                  .94\r\n",
      "   Precision:                  .98\r\n",
      "   Recall:                     .91\r\n",
      "   Name of the model definition:APPOINTMENTSPREDECTION\r\n",
      "   Name of the trained model being validated:AppointmentsPredection2 [2020-07-18 13:57:30]\r\n",
      "   Validation error (if encountered):1\r\n",
      "\r\n",
      "\n"
     ]
    }
   ],
   "source": [
    "### Get the last validation parameter for each IntegeratedML model\n",
    "print(dbnative.classMethodValue(\"MyMetric.Install\", \"GetSamples\", \"MyMetric.IntegratedMLModelsValidation\"))"
   ]
  },
  {
   "cell_type": "markdown",
   "metadata": {},
   "source": [
    "Same results also could see by CSP interface: http://localhost:8092/csp/user/MyMetric.Sample.IntegratedMLModelsValidation.cls"
   ]
  },
  {
   "cell_type": "markdown",
   "metadata": {},
   "source": [
    "With such functionality, someone could setup an alert into ^%SYSMONMGR monitor utility, checking model's performance metrics against thresholds. This way, IntegeratedML applications performance issues could be quickly notified."
   ]
  },
  {
   "cell_type": "markdown",
   "metadata": {},
   "source": [
    "# Simulating a performance issue"
   ]
  },
  {
   "cell_type": "markdown",
   "metadata": {},
   "source": [
    "Let's re-validate the model, but this turn, using first 800 records and see how this affects to model's performance metrics."
   ]
  },
  {
   "cell_type": "code",
   "execution_count": 12,
   "metadata": {},
   "outputs": [
    {
     "data": {
      "text/plain": [
       "<pyodbc.Cursor at 0x7f7fd45ab990>"
      ]
     },
     "execution_count": 12,
     "metadata": {},
     "output_type": "execute_result"
    }
   ],
   "source": [
    "### Model validation\n",
    "cursor.execute(\n",
    "    \"VALIDATE MODEL %s FROM %s WHERE ID < %s USING {\\\"seed\\\": 3}\" \n",
    "    % (modelName, dataTable, 800)\n",
    ")"
   ]
  },
  {
   "cell_type": "code",
   "execution_count": 13,
   "metadata": {},
   "outputs": [
    {
     "name": "stdout",
     "output_type": "stream",
     "text": [
      "MyMetric - IntegratedMLModelsValidation   AppointmentsPredection2 [2020-07-18 13:58:33]   Serial value of object or the object identity:W\u0001MyMetric||IntegratedMLModelsValidation||AppointmentsPredection2 [2020-07-18 13:58:33].\u0001MyMetric.Sample.IntegratedMLModelsValidation\r\n",
      "   Accuracy:                   .87\r\n",
      "   F-Measure:                  .93\r\n",
      "   Precision:                  .98\r\n",
      "   Recall:                     .88\r\n",
      "   Name of the model definition:APPOINTMENTSPREDECTION\r\n",
      "   Name of the trained model being validated:AppointmentsPredection2 [2020-07-18 13:58:33]\r\n",
      "   Validation error (if encountered):1\r\n",
      "\r\n",
      "\n"
     ]
    }
   ],
   "source": [
    "### Get the last validation parameter for each IntegeratedML model\n",
    "print(dbnative.classMethodValue(\"MyMetric.Install\", \"GetSamples\", \"MyMetric.IntegratedMLModelsValidation\"))"
   ]
  },
  {
   "cell_type": "markdown",
   "metadata": {},
   "source": [
    "Now model's accuracy had descreased to about 87%.  "
   ]
  },
  {
   "cell_type": "markdown",
   "metadata": {},
   "source": [
    "Let's say that for you business rule, performances less than 90% are unacceptable. If you had previously setup an alert to notify your team when model's performance is less than 90%, such team could be quickly notified and take care about this issue."
   ]
  },
  {
   "cell_type": "markdown",
   "metadata": {},
   "source": [
    "Please refer to the System Monitor [documentation](https://irisdocs.intersystems.com/irislatest/csp/docbook/Doc.View.cls?KEY=GCM_healthmon) to see how setup such alert."
   ]
  },
  {
   "cell_type": "markdown",
   "metadata": {},
   "source": [
    "# Responding to notification of performance issue"
   ]
  },
  {
   "cell_type": "markdown",
   "metadata": {},
   "source": [
    "An approach to deal with such performance issue could be simply retrain the model. However, there isn't a rule and each case demands properly analysis."
   ]
  },
  {
   "cell_type": "code",
   "execution_count": 14,
   "metadata": {},
   "outputs": [
    {
     "name": "stdout",
     "output_type": "stream",
     "text": [
      "Training model (this could take a while)...\n",
      "Model trained\n"
     ]
    },
    {
     "data": {
      "text/plain": [
       "<pyodbc.Cursor at 0x7f7fd45ab990>"
      ]
     },
     "execution_count": 14,
     "metadata": {},
     "output_type": "execute_result"
    }
   ],
   "source": [
    "### Retrain model using first 800 records\n",
    "print('Training model (this could take a while)...')\n",
    "cursor.execute(\n",
    "    \"TRAIN MODEL %s FROM %s WHERE ID <= %s USING {\\\"seed\\\": 3}\" \n",
    "    % (modelName, dataTable, 600)\n",
    ")\n",
    "print('Model trained')\n",
    "cnxn.commit()\n",
    "\n",
    "### Model validation\n",
    "cursor.execute(\n",
    "    \"VALIDATE MODEL %s FROM %s WHERE ID <= %s USING {\\\"seed\\\": 3}\" \n",
    "    % (modelName, dataTable, 800)\n",
    ")"
   ]
  },
  {
   "cell_type": "code",
   "execution_count": 15,
   "metadata": {},
   "outputs": [
    {
     "name": "stdout",
     "output_type": "stream",
     "text": [
      "MyMetric - IntegratedMLModelsValidation   AppointmentsPredection4 [2020-07-18 13:59:48]   Serial value of object or the object identity:W\u0001MyMetric||IntegratedMLModelsValidation||AppointmentsPredection4 [2020-07-18 13:59:48].\u0001MyMetric.Sample.IntegratedMLModelsValidation\r\n",
      "   Accuracy:                   .96\r\n",
      "   F-Measure:                  .98\r\n",
      "   Precision:                  .97\r\n",
      "   Recall:                     .99\r\n",
      "   Name of the model definition:APPOINTMENTSPREDECTION\r\n",
      "   Name of the trained model being validated:AppointmentsPredection4 [2020-07-18 13:59:48]\r\n",
      "   Validation error (if encountered):1\r\n",
      "\r\n",
      "\n"
     ]
    }
   ],
   "source": [
    "### Get the last validation parameter for each IntegeratedML model\n",
    "print(dbnative.classMethodValue(\"MyMetric.Install\", \"GetSamples\", \"MyMetric.IntegratedMLModelsValidation\"))"
   ]
  },
  {
   "cell_type": "markdown",
   "metadata": {},
   "source": [
    "# Teardown"
   ]
  },
  {
   "cell_type": "code",
   "execution_count": 16,
   "metadata": {},
   "outputs": [],
   "source": [
    "### Close the database and native API connections\n",
    "nativeConn.close()\n",
    "cnxn.close()"
   ]
  }
 ],
 "metadata": {
  "kernelspec": {
   "display_name": "Python 3",
   "language": "python",
   "name": "python3"
  },
  "language_info": {
   "codemirror_mode": {
    "name": "ipython",
    "version": 3
   },
   "file_extension": ".py",
   "mimetype": "text/x-python",
   "name": "python",
   "nbconvert_exporter": "python",
   "pygments_lexer": "ipython3",
   "version": "3.6.9"
  }
 },
 "nbformat": 4,
 "nbformat_minor": 2
}
